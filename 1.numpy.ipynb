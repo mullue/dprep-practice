{
 "cells": [
  {
   "cell_type": "markdown",
   "metadata": {},
   "source": [
    "# 실습 1. Numpy 핸들링 실습\n",
    "- https://numpy.org/doc/stable/index.html"
   ]
  },
  {
   "cell_type": "code",
   "execution_count": 2,
   "metadata": {},
   "outputs": [],
   "source": [
    "import numpy as np"
   ]
  },
  {
   "cell_type": "markdown",
   "metadata": {},
   "source": [
    "## 1. Numpy array 생성과 연산\n",
    "### Numpy array 만들기"
   ]
  },
  {
   "cell_type": "code",
   "execution_count": 3,
   "metadata": {},
   "outputs": [],
   "source": [
    "# array 만들기\n",
    "array_1d = np.array([1,2,3,4,5])\n",
    "array_2d = np.array([[1,2,3,4,5], [6,7,8,9,10]])"
   ]
  },
  {
   "cell_type": "code",
   "execution_count": 4,
   "metadata": {},
   "outputs": [
    {
     "name": "stdout",
     "output_type": "stream",
     "text": [
      "[1 2 3 4 5]\n",
      "[[ 1  2  3  4  5]\n",
      " [ 6  7  8  9 10]]\n"
     ]
    }
   ],
   "source": [
    "print(array_1d)\n",
    "print(array_2d)"
   ]
  },
  {
   "cell_type": "markdown",
   "metadata": {},
   "source": [
    "### numpy.ndarray.shape\n",
    "- Numpy 배열의 차원을 확인합니다.\n",
    "- https://numpy.org/doc/stable/reference/generated/numpy.ndarray.shape.html"
   ]
  },
  {
   "cell_type": "code",
   "execution_count": 6,
   "metadata": {},
   "outputs": [
    {
     "data": {
      "text/plain": [
       "(5,)"
      ]
     },
     "execution_count": 6,
     "metadata": {},
     "output_type": "execute_result"
    }
   ],
   "source": [
    "#(아래 코드를 완성하세요.) array_1d의 차원을 확인하세요. (정답: array_1d.shape )\n",
    "array_1d.____"
   ]
  },
  {
   "cell_type": "code",
   "execution_count": 7,
   "metadata": {},
   "outputs": [
    {
     "data": {
      "text/plain": [
       "(2, 5)"
      ]
     },
     "execution_count": 7,
     "metadata": {},
     "output_type": "execute_result"
    }
   ],
   "source": [
    "#(아래 코드를 완성하세요.) array_2d의 차원을 확인하세요. (정답: array_2d.shape )\n",
    "array_2d.____"
   ]
  },
  {
   "cell_type": "markdown",
   "metadata": {},
   "source": [
    "### numpy.zeros\n",
    "- 주어진 차원으로 0으로 채워진 배열을 생성합니다.\n",
    "- https://numpy.org/doc/stable/reference/generated/numpy.zeros.html?highlight=zero\n"
   ]
  },
  {
   "cell_type": "code",
   "execution_count": 8,
   "metadata": {},
   "outputs": [
    {
     "name": "stdout",
     "output_type": "stream",
     "text": [
      "[0. 0. 0. 0. 0.]\n",
      "(5,)\n"
     ]
    }
   ],
   "source": [
    "#(아래 코드를 완성하세요.) 5개의 0으로 채워진 1차원 배열을 생성하세요. (정답: empty_array_1d = np.zeros(5) )\n",
    "empty_array_1d = np.____\n",
    "\n",
    "print(empty_array_1d)\n",
    "print(empty_array_1d.shape)"
   ]
  },
  {
   "cell_type": "code",
   "execution_count": 10,
   "metadata": {},
   "outputs": [
    {
     "name": "stdout",
     "output_type": "stream",
     "text": [
      "[[0. 0. 0. 0. 0.]\n",
      " [0. 0. 0. 0. 0.]]\n",
      "(2, 5)\n"
     ]
    }
   ],
   "source": [
    "#(아래 코드를 완성하세요.) (2,5) 차원을 가지는 0으로 채워진 2차원 배열을 생성하세요. (정답: empty_array_1d = np.zeros([2,5]) )\n",
    "empty_array_2d = np.____\n",
    "\n",
    "print(empty_array_2d)\n",
    "print(empty_array_2d.shape)"
   ]
  },
  {
   "cell_type": "markdown",
   "metadata": {},
   "source": [
    "### np.ones\n",
    "- 주어진 차원으로 1로 채워진 배열을 생성합니다.\n",
    "- https://numpy.org/doc/stable/reference/generated/numpy.ones.html?highlight=ones"
   ]
  },
  {
   "cell_type": "code",
   "execution_count": 11,
   "metadata": {},
   "outputs": [
    {
     "data": {
      "text/plain": [
       "array([1., 1., 1., 1., 1.])"
      ]
     },
     "execution_count": 11,
     "metadata": {},
     "output_type": "execute_result"
    }
   ],
   "source": [
    "#(아래 코드를 완성하세요.)  5개의 1으로 채워진 1차원 배열을 생성하세요. (정답: np.ones([5]) )\n",
    "np.____([5])"
   ]
  },
  {
   "cell_type": "markdown",
   "metadata": {},
   "source": [
    "### np.random.random\n",
    "- 주어진 차원으로 0~1사이의 임의의 실수로 된 배열을 생성합니다.\n",
    "- https://numpy.org/doc/stable/reference/random/index.html"
   ]
  },
  {
   "cell_type": "code",
   "execution_count": 13,
   "metadata": {},
   "outputs": [
    {
     "data": {
      "text/plain": [
       "array([[0.92035586, 0.47838453, 0.23030257, 0.83042331, 0.30275024],\n",
       "       [0.33451391, 0.78473761, 0.42391042, 0.48341409, 0.20999096]])"
      ]
     },
     "execution_count": 13,
     "metadata": {},
     "output_type": "execute_result"
    }
   ],
   "source": [
    "#(아래 코드를 완성하세요.)  난수로 구성된 (2,5)차원의 배열을 생성하세요. (정답: random_array = np.random.random((2, 5)) )\n",
    "random_array = np.random._____((2, 5))\n",
    "random_array"
   ]
  },
  {
   "cell_type": "code",
   "execution_count": 14,
   "metadata": {},
   "outputs": [
    {
     "data": {
      "text/plain": [
       "dtype('float64')"
      ]
     },
     "execution_count": 14,
     "metadata": {},
     "output_type": "execute_result"
    }
   ],
   "source": [
    "# array 체크해보기\n",
    "random_array.dtype"
   ]
  },
  {
   "cell_type": "markdown",
   "metadata": {},
   "source": [
    "### np.ndarray.astype\n",
    "- 주어진 배열의 자료형을 변경합니다.\n",
    "- https://numpy.org/doc/stable/reference/generated/numpy.ndarray.astype.html?highlight=astype#numpy.ndarray.astype"
   ]
  },
  {
   "cell_type": "code",
   "execution_count": 16,
   "metadata": {},
   "outputs": [
    {
     "data": {
      "text/plain": [
       "array([[0.92035586, 0.47838452, 0.23030257, 0.8304233 , 0.30275023],\n",
       "       [0.3345139 , 0.7847376 , 0.4239104 , 0.48341408, 0.20999096]],\n",
       "      dtype=float32)"
      ]
     },
     "execution_count": 16,
     "metadata": {},
     "output_type": "execute_result"
    }
   ],
   "source": [
    "#(아래 코드를 완성하세요.)  random_array 배열을 'float32'로 자료형을 변환하세요. (정답: random_array.astype('float32') )\n",
    "random_array._____('float32')"
   ]
  },
  {
   "cell_type": "markdown",
   "metadata": {},
   "source": [
    "## 2. array의 연산\n",
    "- 배열 + 스칼라 연산"
   ]
  },
  {
   "cell_type": "code",
   "execution_count": 17,
   "metadata": {},
   "outputs": [
    {
     "data": {
      "text/plain": [
       "array([[1.92035586, 1.47838453, 1.23030257, 1.83042331, 1.30275024],\n",
       "       [1.33451391, 1.78473761, 1.42391042, 1.48341409, 1.20999096]])"
      ]
     },
     "execution_count": 17,
     "metadata": {},
     "output_type": "execute_result"
    }
   ],
   "source": [
    "random_array + 1"
   ]
  },
  {
   "cell_type": "code",
   "execution_count": 18,
   "metadata": {},
   "outputs": [
    {
     "data": {
      "text/plain": [
       "array([[1., 1., 1., 1., 1.],\n",
       "       [1., 1., 1., 1., 1.]])"
      ]
     },
     "execution_count": 18,
     "metadata": {},
     "output_type": "execute_result"
    }
   ],
   "source": [
    "#(아래 코드를 완성하세요.) empty_array_2 d 로부터 스칼라 연산을 이용하여 1로 채워진 2차원 배열을 생성하세요. (정답: empty_array_plus_one = empty_array_2d + 1 )\n",
    "empty_array_plus_one = empty_array_2d + ___\n",
    "\n",
    "empty_array_plus_one"
   ]
  },
  {
   "cell_type": "markdown",
   "metadata": {},
   "source": [
    "- 배열 + 배열 연산"
   ]
  },
  {
   "cell_type": "code",
   "execution_count": 19,
   "metadata": {},
   "outputs": [
    {
     "data": {
      "text/plain": [
       "array([[1.92035586, 1.47838453, 1.23030257, 1.83042331, 1.30275024],\n",
       "       [1.33451391, 1.78473761, 1.42391042, 1.48341409, 1.20999096]])"
      ]
     },
     "execution_count": 19,
     "metadata": {},
     "output_type": "execute_result"
    }
   ],
   "source": [
    "# 배열 + 배열\n",
    "empty_array_plus_one + random_array"
   ]
  },
  {
   "cell_type": "markdown",
   "metadata": {},
   "source": [
    "- 논리연산"
   ]
  },
  {
   "cell_type": "code",
   "execution_count": 20,
   "metadata": {},
   "outputs": [
    {
     "data": {
      "text/plain": [
       "array([[ True,  True,  True,  True,  True],\n",
       "       [ True,  True,  True,  True,  True]])"
      ]
     },
     "execution_count": 20,
     "metadata": {},
     "output_type": "execute_result"
    }
   ],
   "source": [
    "empty_array_plus_one == empty_array_plus_one"
   ]
  },
  {
   "cell_type": "code",
   "execution_count": 21,
   "metadata": {},
   "outputs": [
    {
     "data": {
      "text/plain": [
       "array([[False, False, False, False, False],\n",
       "       [False, False, False, False, False]])"
      ]
     },
     "execution_count": 21,
     "metadata": {},
     "output_type": "execute_result"
    }
   ],
   "source": [
    "empty_array_plus_one == random_array"
   ]
  },
  {
   "cell_type": "markdown",
   "metadata": {},
   "source": [
    "- 수학연산 : 거듭제곱, 삼각함수, 로그함수 등\n",
    "- https://numpy.org/doc/stable/reference/generated/numpy.power.html?highlight=power#numpy.power"
   ]
  },
  {
   "cell_type": "code",
   "execution_count": 22,
   "metadata": {},
   "outputs": [
    {
     "data": {
      "text/plain": [
       "1024"
      ]
     },
     "execution_count": 22,
     "metadata": {},
     "output_type": "execute_result"
    }
   ],
   "source": [
    "# (아래 코드를 완성하세요.) 2^10 값을 계산하세요. (정답: np.power(2, 10)  )\n",
    "np.____(2, 10) "
   ]
  },
  {
   "cell_type": "code",
   "execution_count": 23,
   "metadata": {},
   "outputs": [
    {
     "data": {
      "text/plain": [
       "0.0"
      ]
     },
     "execution_count": 23,
     "metadata": {},
     "output_type": "execute_result"
    }
   ],
   "source": [
    "# (아래 코드를 완성하세요.) sin(0) 값을 계산하세요. (정답: np.sin(0)  )\n",
    "np.___(0)"
   ]
  },
  {
   "cell_type": "code",
   "execution_count": 24,
   "metadata": {},
   "outputs": [
    {
     "data": {
      "text/plain": [
       "1.0"
      ]
     },
     "execution_count": 24,
     "metadata": {},
     "output_type": "execute_result"
    }
   ],
   "source": [
    "# (아래 코드를 완성하세요.) cos(0) 값을 계산하세요. (정답: np.cos(0)  )\n",
    "np.___(0)"
   ]
  },
  {
   "cell_type": "code",
   "execution_count": 25,
   "metadata": {},
   "outputs": [
    {
     "data": {
      "text/plain": [
       "0.0"
      ]
     },
     "execution_count": 25,
     "metadata": {},
     "output_type": "execute_result"
    }
   ],
   "source": [
    "# (아래 코드를 완성하세요.) 자연로그 log(0) 값을 계산하세요. (정답: np.log(1)  )\n",
    "np.___(1)"
   ]
  },
  {
   "cell_type": "code",
   "execution_count": 26,
   "metadata": {},
   "outputs": [
    {
     "data": {
      "text/plain": [
       "2.718281828459045"
      ]
     },
     "execution_count": 26,
     "metadata": {},
     "output_type": "execute_result"
    }
   ],
   "source": [
    "# (아래 코드를 완성하세요.) 지수함수 e^1 값을 계산하세요. (정답: np.exp(1)  )\n",
    "np.___(1)"
   ]
  },
  {
   "cell_type": "markdown",
   "metadata": {},
   "source": [
    "- 차원축소 연산\n",
    "- https://numpy.org/doc/stable/reference/generated/numpy.ndarray.sum.html?highlight=sum"
   ]
  },
  {
   "cell_type": "code",
   "execution_count": 27,
   "metadata": {},
   "outputs": [
    {
     "data": {
      "text/plain": [
       "4.998783495278211"
      ]
     },
     "execution_count": 27,
     "metadata": {},
     "output_type": "execute_result"
    }
   ],
   "source": [
    "# (아래 코드를 완성하세요.) random_array 배열의 원소의 합을 구하세요. (정답: random_array.sum())\n",
    "random_array.___()"
   ]
  },
  {
   "cell_type": "code",
   "execution_count": 28,
   "metadata": {},
   "outputs": [
    {
     "data": {
      "text/plain": [
       "(0.920355863292613, 0.2099909629654143)"
      ]
     },
     "execution_count": 28,
     "metadata": {},
     "output_type": "execute_result"
    }
   ],
   "source": [
    "# (아래 코드를 완성하세요.) random_array 배열에서 최소값과 최대값을 구하세요. (정답: random_array.min(), random_array.max() )\n",
    "random_array.___(), random_array.___()"
   ]
  },
  {
   "cell_type": "markdown",
   "metadata": {},
   "source": [
    "## 3. 배열의 원소 선택"
   ]
  },
  {
   "cell_type": "code",
   "execution_count": 29,
   "metadata": {},
   "outputs": [
    {
     "data": {
      "text/plain": [
       "array([[ 1,  2,  3,  4,  5],\n",
       "       [ 6,  7,  8,  9, 10]])"
      ]
     },
     "execution_count": 29,
     "metadata": {},
     "output_type": "execute_result"
    }
   ],
   "source": [
    "array_2d"
   ]
  },
  {
   "cell_type": "code",
   "execution_count": 30,
   "metadata": {},
   "outputs": [
    {
     "data": {
      "text/plain": [
       "array([1, 2, 3, 4, 5])"
      ]
     },
     "execution_count": 30,
     "metadata": {},
     "output_type": "execute_result"
    }
   ],
   "source": [
    "# (아래 코드를 완성하세요.) 첫번째 row를 선택하세요. (정답: array_2d[0, :] )\n",
    "array_2d[___, ___]"
   ]
  },
  {
   "cell_type": "code",
   "execution_count": 31,
   "metadata": {},
   "outputs": [
    {
     "data": {
      "text/plain": [
       "array([1, 6])"
      ]
     },
     "execution_count": 31,
     "metadata": {},
     "output_type": "execute_result"
    }
   ],
   "source": [
    "# (아래 코드를 완성하세요.) 첫번째 column을 선택하세요. (정답: array_2d[:, 0] )\n",
    "array_2d[___, ___]"
   ]
  },
  {
   "cell_type": "code",
   "execution_count": 32,
   "metadata": {},
   "outputs": [
    {
     "data": {
      "text/plain": [
       "array([[1, 2, 3],\n",
       "       [6, 7, 8]])"
      ]
     },
     "execution_count": 32,
     "metadata": {},
     "output_type": "execute_result"
    }
   ],
   "source": [
    "# (아래 코드를 완성하세요.) 첫번째 부터 세번째 컬럼까지 모든 row를 선택하세요. (정답: array_2d[:, 0:3] )\n",
    "array_2d[___, ___]"
   ]
  },
  {
   "cell_type": "markdown",
   "metadata": {},
   "source": [
    "---\n",
    "## 연습문제\n",
    "1. 0 ~ 1 사이의 임의의 실수를 원소로 가지는 (3,4) 차원의 배열을 생성하세요.\n",
    "1. 1 ~ 10사이의 임의의 정수를 원소로 가지는 (3,4) 차원의 배열을 생성하세요.\n",
    "1. 0 또는 1을 원소를 랜덤하게 가지는 (5,) 차원의 배열을 생성하세요. \n",
    "1. 밑이 10인 로그함수로 x=1에 대한 로그함수값을 계산하세요.\n",
    "1. 1번에서 생성한 배열의 원소의 합을 구하세요.\n",
    "1. 1번에서 생성한 배열로부터 (2,1) 위치의 원소를 선택하세요.\n"
   ]
  },
  {
   "cell_type": "code",
   "execution_count": null,
   "metadata": {},
   "outputs": [],
   "source": []
  },
  {
   "cell_type": "code",
   "execution_count": null,
   "metadata": {},
   "outputs": [],
   "source": []
  },
  {
   "cell_type": "code",
   "execution_count": null,
   "metadata": {},
   "outputs": [],
   "source": []
  }
 ],
 "metadata": {
  "instance_type": "ml.t3.medium",
  "kernelspec": {
   "display_name": "Python 3 (Data Science)",
   "language": "python",
   "name": "python3__SAGEMAKER_INTERNAL__arn:aws:sagemaker:us-east-1:081325390199:image/datascience-1.0"
  },
  "language_info": {
   "codemirror_mode": {
    "name": "ipython",
    "version": 3
   },
   "file_extension": ".py",
   "mimetype": "text/x-python",
   "name": "python",
   "nbconvert_exporter": "python",
   "pygments_lexer": "ipython3",
   "version": "3.7.10"
  }
 },
 "nbformat": 4,
 "nbformat_minor": 5
}
