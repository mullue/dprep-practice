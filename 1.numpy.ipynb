{
 "cells": [
  {
   "cell_type": "markdown",
   "id": "54888195",
   "metadata": {},
   "source": [
    "# 실습 1. Numpy 핸들링 실습\n",
    "- https://numpy.org/doc/stable/index.html"
   ]
  },
  {
   "cell_type": "code",
   "execution_count": 1,
   "id": "0721a66e",
   "metadata": {},
   "outputs": [],
   "source": [
    "import numpy as np"
   ]
  },
  {
   "cell_type": "markdown",
   "id": "8de8a5f8",
   "metadata": {},
   "source": [
    "## 1. Numpy array 생성과 연산\n",
    "### Numpy array 만들기"
   ]
  },
  {
   "cell_type": "code",
   "execution_count": 2,
   "id": "82999726",
   "metadata": {},
   "outputs": [],
   "source": [
    "# array 만들기\n",
    "array_1d = np.array([1,2,3,4,5])\n",
    "array_2d = np.array([[1,2,3,4,5], [6,7,8,9,10]])"
   ]
  },
  {
   "cell_type": "code",
   "execution_count": 13,
   "id": "31c80eff",
   "metadata": {},
   "outputs": [
    {
     "name": "stdout",
     "output_type": "stream",
     "text": [
      "[1 2 3 4 5]\n",
      "[[ 1  2  3  4  5]\n",
      " [ 6  7  8  9 10]]\n"
     ]
    }
   ],
   "source": [
    "print(array_1d)\n",
    "print(array_2d)"
   ]
  },
  {
   "cell_type": "markdown",
   "id": "d8f846bc",
   "metadata": {},
   "source": [
    "### numpy.ndarray.shape\n",
    "- Numpy 배열의 차원을 확인합니다.\n",
    "- https://numpy.org/doc/stable/reference/generated/numpy.ndarray.shape.html"
   ]
  },
  {
   "cell_type": "code",
   "execution_count": 14,
   "id": "fa64c910",
   "metadata": {},
   "outputs": [
    {
     "data": {
      "text/plain": [
       "(5,)"
      ]
     },
     "execution_count": 14,
     "metadata": {},
     "output_type": "execute_result"
    }
   ],
   "source": [
    "#(아래 코드를 완성하세요.) array_1d의 차원을 확인하세요. (정답: array_1d.shape )\n",
    "array_1d.____"
   ]
  },
  {
   "cell_type": "code",
   "execution_count": 15,
   "id": "916b3a58",
   "metadata": {},
   "outputs": [
    {
     "data": {
      "text/plain": [
       "(2, 5)"
      ]
     },
     "execution_count": 15,
     "metadata": {},
     "output_type": "execute_result"
    }
   ],
   "source": [
    "#(아래 코드를 완성하세요.) array_2d의 차원을 확인하세요. (정답: array_2d.shape )\n",
    "array_2d.____"
   ]
  },
  {
   "cell_type": "markdown",
   "id": "365c3ac5",
   "metadata": {},
   "source": [
    "### numpy.zeros\n",
    "- 주어진 차원으로 0으로 채워진 배열을 생성합니다.\n",
    "- https://numpy.org/doc/stable/reference/generated/numpy.zeros.html?highlight=zero\n"
   ]
  },
  {
   "cell_type": "code",
   "execution_count": 30,
   "id": "08f8fde8",
   "metadata": {},
   "outputs": [
    {
     "name": "stdout",
     "output_type": "stream",
     "text": [
      "[0. 0. 0. 0. 0.]\n",
      "(5,)\n"
     ]
    }
   ],
   "source": [
    "#(아래 코드를 완성하세요.) 5개의 0으로 채워진 1차원 배열을 생성하세요. (정답: empty_array_1d = np.zeros(5) )\n",
    "empty_array_1d = np.____\n",
    "\n",
    "print(empty_array_1d)\n",
    "print(empty_array_1d.shape)"
   ]
  },
  {
   "cell_type": "code",
   "execution_count": 31,
   "id": "9f2e7643",
   "metadata": {},
   "outputs": [
    {
     "name": "stdout",
     "output_type": "stream",
     "text": [
      "[[0. 0. 0. 0. 0.]\n",
      " [0. 0. 0. 0. 0.]]\n",
      "(2, 5)\n"
     ]
    }
   ],
   "source": [
    "#(아래 코드를 완성하세요.) (2,5) 차원을 가지는 0으로 채워진 2차원 배열을 생성하세요. (정답: empty_array_1d = np.zeros(2,5) )\n",
    "empty_array_2d = np.____\n",
    "\n",
    "print(empty_array_2d)\n",
    "print(empty_array_2d.shape)"
   ]
  },
  {
   "cell_type": "markdown",
   "id": "613f2dd5",
   "metadata": {},
   "source": [
    "### np.ones\n",
    "- 주어진 차원으로 1로 채워진 배열을 생성합니다.\n",
    "- https://numpy.org/doc/stable/reference/generated/numpy.ones.html?highlight=ones"
   ]
  },
  {
   "cell_type": "code",
   "execution_count": 10,
   "id": "5bd5a4ae",
   "metadata": {},
   "outputs": [
    {
     "data": {
      "text/plain": [
       "array([1., 1., 1., 1., 1.])"
      ]
     },
     "execution_count": 10,
     "metadata": {},
     "output_type": "execute_result"
    }
   ],
   "source": [
    "#(아래 코드를 완성하세요.)  5개의 1으로 채워진 1차원 배열을 생성하세요. (정답: np.ones([5]) )\n",
    "np.____([5])"
   ]
  },
  {
   "cell_type": "markdown",
   "id": "169f6148",
   "metadata": {},
   "source": [
    "### np.random.random\n",
    "- 주어진 차원으로 0~1사이의 임의의 실수로 된 배열을 생성합니다.\n",
    "- https://numpy.org/doc/stable/reference/random/index.html"
   ]
  },
  {
   "cell_type": "code",
   "execution_count": 17,
   "id": "ce31aa87",
   "metadata": {},
   "outputs": [
    {
     "data": {
      "text/plain": [
       "array([[0.23218866, 0.15075595, 0.87516006, 0.37699325, 0.83025608],\n",
       "       [0.2180551 , 0.86740679, 0.31165611, 0.7367775 , 0.36461994]])"
      ]
     },
     "execution_count": 17,
     "metadata": {},
     "output_type": "execute_result"
    }
   ],
   "source": [
    "#(아래 코드를 완성하세요.)  난수로 구성된 (2,5)차원의 배열을 생성하세요. (정답: random_array = np.random.random((2, 5)) )\n",
    "random_array = np.random._____((2, 5))\n",
    "random_array"
   ]
  },
  {
   "cell_type": "code",
   "execution_count": 35,
   "id": "4e443498",
   "metadata": {},
   "outputs": [
    {
     "data": {
      "text/plain": [
       "dtype('float64')"
      ]
     },
     "execution_count": 35,
     "metadata": {},
     "output_type": "execute_result"
    }
   ],
   "source": [
    "# array 체크해보기\n",
    "random_array.dtype"
   ]
  },
  {
   "cell_type": "markdown",
   "id": "7d434705",
   "metadata": {},
   "source": [
    "### np.ndarray.astype\n",
    "- 주어진 배열의 자료형을 변경합니다.\n",
    "- https://numpy.org/doc/stable/reference/generated/numpy.ndarray.astype.html?highlight=astype#numpy.ndarray.astype"
   ]
  },
  {
   "cell_type": "code",
   "execution_count": 36,
   "id": "8b68b249",
   "metadata": {},
   "outputs": [
    {
     "data": {
      "text/plain": [
       "array([[0.64027375, 0.01032324, 0.874547  , 0.8676279 , 0.416399  ],\n",
       "       [0.9801275 , 0.8710709 , 0.4855941 , 0.2553211 , 0.6019728 ]],\n",
       "      dtype=float32)"
      ]
     },
     "execution_count": 36,
     "metadata": {},
     "output_type": "execute_result"
    }
   ],
   "source": [
    "#(아래 코드를 완성하세요.)  random_array 배열을 'float32'로 자료형을 변환하세요. (정답: random_array.astype('float32') )\n",
    "random_array._____('float32')"
   ]
  },
  {
   "cell_type": "markdown",
   "id": "98228b17",
   "metadata": {},
   "source": [
    "## 2. array의 연산\n",
    "- 배열 + 스칼라 연산"
   ]
  },
  {
   "cell_type": "code",
   "execution_count": 19,
   "id": "b41022ff",
   "metadata": {},
   "outputs": [
    {
     "data": {
      "text/plain": [
       "array([[1.23218866, 1.15075595, 1.87516006, 1.37699325, 1.83025608],\n",
       "       [1.2180551 , 1.86740679, 1.31165611, 1.7367775 , 1.36461994]])"
      ]
     },
     "execution_count": 19,
     "metadata": {},
     "output_type": "execute_result"
    }
   ],
   "source": [
    "random_array + 1"
   ]
  },
  {
   "cell_type": "code",
   "execution_count": 33,
   "id": "cc13159f",
   "metadata": {},
   "outputs": [
    {
     "data": {
      "text/plain": [
       "array([[1., 1., 1., 1., 1.],\n",
       "       [1., 1., 1., 1., 1.]])"
      ]
     },
     "execution_count": 33,
     "metadata": {},
     "output_type": "execute_result"
    }
   ],
   "source": [
    "#(아래 코드를 완성하세요.) empty_array_2 d 로부터 스칼라 연산을 이용하여 1로 채워진 2차원 배열을 생성하세요. (정답: empty_array_plus_one = empty_array_2d + 1 )\n",
    "empty_array_plus_one = empty_array_2d + ___\n",
    "\n",
    "empty_array_plus_one"
   ]
  },
  {
   "cell_type": "markdown",
   "id": "71c6a65c",
   "metadata": {},
   "source": [
    "- 배열 + 배열 연산"
   ]
  },
  {
   "cell_type": "code",
   "execution_count": 23,
   "id": "c5cbdf7f",
   "metadata": {},
   "outputs": [
    {
     "data": {
      "text/plain": [
       "array([[1.23218866, 1.15075595, 1.87516006, 1.37699325, 1.83025608],\n",
       "       [1.2180551 , 1.86740679, 1.31165611, 1.7367775 , 1.36461994]])"
      ]
     },
     "execution_count": 23,
     "metadata": {},
     "output_type": "execute_result"
    }
   ],
   "source": [
    "# 배열 + 배열\n",
    "empty_array_plus_one + random_array"
   ]
  },
  {
   "cell_type": "markdown",
   "id": "d92a9bfd",
   "metadata": {},
   "source": [
    "- 논리연산"
   ]
  },
  {
   "cell_type": "code",
   "execution_count": 39,
   "id": "57d4b99b",
   "metadata": {},
   "outputs": [
    {
     "data": {
      "text/plain": [
       "array([[ True,  True,  True,  True,  True],\n",
       "       [ True,  True,  True,  True,  True]])"
      ]
     },
     "execution_count": 39,
     "metadata": {},
     "output_type": "execute_result"
    }
   ],
   "source": [
    "empty_array_plus_one == empty_array_plus_one"
   ]
  },
  {
   "cell_type": "code",
   "execution_count": 40,
   "id": "31d6bce5",
   "metadata": {},
   "outputs": [
    {
     "data": {
      "text/plain": [
       "array([[False, False, False, False, False],\n",
       "       [False, False, False, False, False]])"
      ]
     },
     "execution_count": 40,
     "metadata": {},
     "output_type": "execute_result"
    }
   ],
   "source": [
    "empty_array_plus_one == random_array"
   ]
  },
  {
   "cell_type": "markdown",
   "id": "46a12819",
   "metadata": {},
   "source": [
    "- 수학연산 : 거듭제곱, 삼각함수, 로그함수 등\n",
    "- https://numpy.org/doc/stable/reference/generated/numpy.power.html?highlight=power#numpy.power"
   ]
  },
  {
   "cell_type": "code",
   "execution_count": 41,
   "id": "bfa8e805",
   "metadata": {},
   "outputs": [
    {
     "data": {
      "text/plain": [
       "1024"
      ]
     },
     "execution_count": 41,
     "metadata": {},
     "output_type": "execute_result"
    }
   ],
   "source": [
    "# (아래 코드를 완성하세요.) 2^10 값을 계산하세요. (정답: np.power(2, 10)  )\n",
    "np.____(2, 10) "
   ]
  },
  {
   "cell_type": "code",
   "execution_count": 42,
   "id": "c3aeaae8",
   "metadata": {},
   "outputs": [
    {
     "data": {
      "text/plain": [
       "0.0"
      ]
     },
     "execution_count": 42,
     "metadata": {},
     "output_type": "execute_result"
    }
   ],
   "source": [
    "# (아래 코드를 완성하세요.) sin(0) 값을 계산하세요. (정답: np.sin(0)  )\n",
    "np.___(0)"
   ]
  },
  {
   "cell_type": "code",
   "execution_count": 43,
   "id": "e02d5b6a",
   "metadata": {},
   "outputs": [
    {
     "data": {
      "text/plain": [
       "1.0"
      ]
     },
     "execution_count": 43,
     "metadata": {},
     "output_type": "execute_result"
    }
   ],
   "source": [
    "# (아래 코드를 완성하세요.) cos(0) 값을 계산하세요. (정답: np.cos(0)  )\n",
    "np.___(0)"
   ]
  },
  {
   "cell_type": "code",
   "execution_count": 44,
   "id": "bd276780",
   "metadata": {},
   "outputs": [
    {
     "data": {
      "text/plain": [
       "0.0"
      ]
     },
     "execution_count": 44,
     "metadata": {},
     "output_type": "execute_result"
    }
   ],
   "source": [
    "# (아래 코드를 완성하세요.) 자연로그 log(0) 값을 계산하세요. (정답: np.log(1)  )\n",
    "np.___(1)"
   ]
  },
  {
   "cell_type": "code",
   "execution_count": 24,
   "id": "f684fe27",
   "metadata": {},
   "outputs": [
    {
     "data": {
      "text/plain": [
       "2.718281828459045"
      ]
     },
     "execution_count": 24,
     "metadata": {},
     "output_type": "execute_result"
    }
   ],
   "source": [
    "# (아래 코드를 완성하세요.) 지수함수 e^1 값을 계산하세요. (정답: np.exp(1)  )\n",
    "np.___(1)"
   ]
  },
  {
   "cell_type": "markdown",
   "id": "1f9c35c8",
   "metadata": {},
   "source": [
    "- 차원축소 연산\n",
    "- https://numpy.org/doc/stable/reference/generated/numpy.ndarray.sum.html?highlight=sum"
   ]
  },
  {
   "cell_type": "code",
   "execution_count": 47,
   "id": "ec860134",
   "metadata": {},
   "outputs": [
    {
     "data": {
      "text/plain": [
       "6.003257274859953"
      ]
     },
     "execution_count": 47,
     "metadata": {},
     "output_type": "execute_result"
    }
   ],
   "source": [
    "# (아래 코드를 완성하세요.) random_array 배열의 원소의 합을 구하세요. (정답: random_array.sum())\n",
    "random_array.___()"
   ]
  },
  {
   "cell_type": "code",
   "execution_count": 25,
   "id": "24ce2f81",
   "metadata": {},
   "outputs": [
    {
     "data": {
      "text/plain": [
       "(0.15075595224753002, 0.8751600593487217)"
      ]
     },
     "execution_count": 25,
     "metadata": {},
     "output_type": "execute_result"
    }
   ],
   "source": [
    "# (아래 코드를 완성하세요.) random_array 배열에서 최소값과 최대값을 구하세요. (정답: random_array.min(), random_array.max() )\n",
    "random_array.___(), random_array.___()"
   ]
  },
  {
   "cell_type": "markdown",
   "id": "ee224d56",
   "metadata": {},
   "source": [
    "## 3. 배열의 원소 선택"
   ]
  },
  {
   "cell_type": "code",
   "execution_count": 49,
   "id": "3718239f",
   "metadata": {},
   "outputs": [
    {
     "data": {
      "text/plain": [
       "array([[ 1,  2,  3,  4,  5],\n",
       "       [ 6,  7,  8,  9, 10]])"
      ]
     },
     "execution_count": 49,
     "metadata": {},
     "output_type": "execute_result"
    }
   ],
   "source": [
    "array_2d"
   ]
  },
  {
   "cell_type": "code",
   "execution_count": 50,
   "id": "e20f267b",
   "metadata": {},
   "outputs": [
    {
     "data": {
      "text/plain": [
       "array([1, 2, 3, 4, 5])"
      ]
     },
     "execution_count": 50,
     "metadata": {},
     "output_type": "execute_result"
    }
   ],
   "source": [
    "# (아래 코드를 완성하세요.) 첫번째 row를 선택하세요. (정답: array_2d[0, :] )\n",
    "array_2d[___, ___]"
   ]
  },
  {
   "cell_type": "code",
   "execution_count": 51,
   "id": "fd788693",
   "metadata": {},
   "outputs": [
    {
     "data": {
      "text/plain": [
       "array([1, 6])"
      ]
     },
     "execution_count": 51,
     "metadata": {},
     "output_type": "execute_result"
    }
   ],
   "source": [
    "# (아래 코드를 완성하세요.) 첫번째 column을 선택하세요. (정답: array_2d[:, 0] )\n",
    "array_2d[___, ___]"
   ]
  },
  {
   "cell_type": "code",
   "execution_count": 52,
   "id": "214ca63f",
   "metadata": {},
   "outputs": [
    {
     "data": {
      "text/plain": [
       "array([[1, 2, 3],\n",
       "       [6, 7, 8]])"
      ]
     },
     "execution_count": 52,
     "metadata": {},
     "output_type": "execute_result"
    }
   ],
   "source": [
    "# (아래 코드를 완성하세요.) 첫번째 부터 세번째 컬럼까지 모든 row를 선택하세요. (정답: array_2d[:, 0:3] )\n",
    "array_2d[___, ___]"
   ]
  },
  {
   "cell_type": "markdown",
   "id": "bf45c5e4",
   "metadata": {},
   "source": [
    "---\n",
    "## 연습문제\n",
    "1. 0 ~ 1 사이의 임의의 실수를 원소로 가지는 (3,4) 차원의 배열을 생성하세요.\n",
    "1. 1 ~ 10사이의 임의의 정수를 원소로 가지는 (3,4) 차원의 배열을 생성하세요.\n",
    "1. 0 또는 1을 원소를 랜덤하게 가지는 (5,) 차원의 배열을 생성하세요. \n",
    "1. 밑이 10인 로그함수로 x=1에 대한 로그함수값을 계산하세요.\n",
    "1. 1번에서 생성한 배열의 원소의 합을 구하세요.\n",
    "1. 1번에서 생성한 배열로부터 (2,1) 위치의 원소를 선택하세요.\n"
   ]
  },
  {
   "cell_type": "code",
   "execution_count": null,
   "id": "b6cd748a",
   "metadata": {},
   "outputs": [],
   "source": []
  },
  {
   "cell_type": "code",
   "execution_count": null,
   "id": "ae8635cf",
   "metadata": {},
   "outputs": [],
   "source": []
  },
  {
   "cell_type": "code",
   "execution_count": null,
   "id": "ec657f62",
   "metadata": {},
   "outputs": [],
   "source": []
  }
 ],
 "metadata": {
  "kernelspec": {
   "display_name": "conda_tensorflow2_p36",
   "language": "python",
   "name": "conda_tensorflow2_p36"
  },
  "language_info": {
   "codemirror_mode": {
    "name": "ipython",
    "version": 3
   },
   "file_extension": ".py",
   "mimetype": "text/x-python",
   "name": "python",
   "nbconvert_exporter": "python",
   "pygments_lexer": "ipython3",
   "version": "3.6.13"
  }
 },
 "nbformat": 4,
 "nbformat_minor": 5
}
