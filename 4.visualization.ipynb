{
 "cells": [
  {
   "cell_type": "markdown",
   "metadata": {},
   "source": [
    "# 실습 3. Visualization \n",
    "- 원본 출처 : https://github.com/zhiyzuo/python-tutorial/blob/master/4-Visualization-with-Matplotlib.ipynb\n",
    "@author: Zhiya Zuo  \n",
    "@email: zhiya-zuo@uiowa.edu"
   ]
  },
  {
   "cell_type": "markdown",
   "metadata": {},
   "source": [
    "<hr>"
   ]
  },
  {
   "cell_type": "code",
   "execution_count": 2,
   "metadata": {
    "ExecuteTime": {
     "end_time": "2018-01-28T18:51:57.841456Z",
     "start_time": "2018-01-28T18:51:57.835813Z"
    }
   },
   "outputs": [],
   "source": [
    "import numpy as np"
   ]
  },
  {
   "cell_type": "code",
   "execution_count": 3,
   "metadata": {
    "ExecuteTime": {
     "end_time": "2018-01-28T18:51:58.541533Z",
     "start_time": "2018-01-28T18:51:58.514311Z"
    }
   },
   "outputs": [],
   "source": [
    "from matplotlib import pyplot as plt\n",
    "%matplotlib inline"
   ]
  },
  {
   "cell_type": "markdown",
   "metadata": {},
   "source": [
    "<hr>"
   ]
  },
  {
   "cell_type": "markdown",
   "metadata": {},
   "source": [
    "## 1. 산점도 그려보기"
   ]
  },
  {
   "cell_type": "markdown",
   "metadata": {},
   "source": [
    "- 샘플 데이터를 생성합니다."
   ]
  },
  {
   "cell_type": "code",
   "execution_count": 4,
   "metadata": {
    "ExecuteTime": {
     "end_time": "2018-01-28T18:52:00.129863Z",
     "start_time": "2018-01-28T18:52:00.114814Z"
    }
   },
   "outputs": [
    {
     "name": "stdout",
     "output_type": "stream",
     "text": [
      "[0 1 2 3 4 5 6 7 8 9]\n",
      "[ 2.82793021  5.30516374  8.24954542 11.5489287  14.72768505 17.1919923\n",
      " 20.41919336 23.12135315 26.49010331 29.5008243 ]\n"
     ]
    }
   ],
   "source": [
    "X_arr = np.arange(10)\n",
    "Y_arr = 3*X_arr + 2 + np.random.random(size=X_arr.size) # linear with some noise\n",
    "print(X_arr)\n",
    "print(Y_arr)"
   ]
  },
  {
   "cell_type": "markdown",
   "metadata": {},
   "source": [
    "### Scater Plot\n",
    "- `plt.scatter()` 함수를 이용하여 산점도를 그립니다.\n",
    "- https://matplotlib.org/stable/api/_as_gen/matplotlib.pyplot.scatter.html"
   ]
  },
  {
   "cell_type": "code",
   "execution_count": 5,
   "metadata": {
    "ExecuteTime": {
     "end_time": "2018-01-28T18:52:01.719648Z",
     "start_time": "2018-01-28T18:52:01.480937Z"
    }
   },
   "outputs": [
    {
     "data": {
      "text/plain": [
       "<matplotlib.collections.PathCollection at 0x7f82490f89b0>"
      ]
     },
     "execution_count": 5,
     "metadata": {},
     "output_type": "execute_result"
    },
    {
     "data": {
      "image/png": "[encoded data removed]",
      "text/plain": [
       "<Figure size 432x288 with 1 Axes>"
      ]
     },
     "metadata": {
      "needs_background": "light"
     },
     "output_type": "display_data"
    }
   ],
   "source": [
    "plt.scatter(X_arr, Y_arr)"
   ]
  },
  {
   "cell_type": "markdown",
   "metadata": {},
   "source": [
    "- X, Y 축 레이블을 추가합니다.\n",
    "- 산점도의 마커를 + 로 변경하고 그래프의 색상을 변경합니다.\n",
    "- 그래프의 제목을 추가합니다."
   ]
  },
  {
   "cell_type": "code",
   "execution_count": 8,
   "metadata": {
    "ExecuteTime": {
     "end_time": "2018-01-28T18:52:03.125922Z",
     "start_time": "2018-01-28T18:52:02.667513Z"
    }
   },
   "outputs": [
    {
     "data": {
      "text/plain": [
       "Text(0.5, 1.0, 'My First Plot')"
      ]
     },
     "execution_count": 8,
     "metadata": {},
     "output_type": "execute_result"
    },
    {
     "data": {
      "image/png": "[encoded data removed]",
      "text/plain": [
       "<Figure size 432x288 with 1 Axes>"
      ]
     },
     "metadata": {
      "needs_background": "light"
     },
     "output_type": "display_data"
    }
   ],
   "source": [
    "# Use `+` as marker; color set as `g` (green); size proportion to Y values\n",
    "plt.scatter(X_arr, Y_arr, marker='+', c='g', s=Y_arr*10) \n",
    "# How about adding a line to it? Let's use `plt.plot()`\n",
    "# set line style to dashed; color as `k` (black) \n",
    "plt.plot(X_arr, Y_arr, linestyle='dashed', color='k')\n",
    "# set x/y axis limits: first two are xlow and xhigh; last two are ylow and yhigh\n",
    "plt.axis([0, 10, 0, 35])\n",
    "# set x/y labels\n",
    "plt.xlabel('My X Axis')\n",
    "plt.ylabel('My Y Axis')\n",
    "# set title\n",
    "plt.title('My First Plot')"
   ]
  },
  {
   "cell_type": "markdown",
   "metadata": {},
   "source": [
    "### 그래프 요소 명칭 확인"
   ]
  },
  {
   "cell_type": "markdown",
   "metadata": {},
   "source": [
    "아래 그림을 통해 `matplotlib`에서 사용하는 그래프 구성요소의 이름을 확인하세요.\n",
    "\n",
    "<img width=700 src=\"https://matplotlib.org/_images/anatomy1.png\">"
   ]
  },
  {
   "cell_type": "markdown",
   "metadata": {},
   "source": [
    "---"
   ]
  },
  {
   "cell_type": "markdown",
   "metadata": {},
   "source": [
    "## 2. 코딩 스타일 연습 "
   ]
  },
  {
   "cell_type": "markdown",
   "metadata": {},
   "source": [
    "- `figure` 오브젝트의 생성에서부터 단계적으로 구성요소를 추가하는 방식을 추천합니다. "
   ]
  },
  {
   "cell_type": "code",
   "execution_count": 10,
   "metadata": {
    "ExecuteTime": {
     "end_time": "2018-01-28T18:52:31.602659Z",
     "start_time": "2018-01-28T18:52:30.002316Z"
    }
   },
   "outputs": [
    {
     "data": {
      "image/png": "[encoded data removed]",
      "text/plain": [
       "<Figure size 432x360 with 1 Axes>"
      ]
     },
     "metadata": {
      "needs_background": "light"
     },
     "output_type": "display_data"
    }
   ],
   "source": [
    "# `plt.subplots()` returns a figure object (which is the whole thing as shown above)\n",
    "# and `axes` that control specific plots in the figure.\n",
    "# Here our \"subplots\" layout is by default 1 row and 1 col and therefore 1 plot\n",
    "fig, ax = plt.subplots()\n",
    "# Setting figure size\n",
    "fig.set_figwidth(6)\n",
    "fig.set_figheight(5)\n",
    "# plot should be done on the `axis`: ax\n",
    "ax.plot(X_arr, Y_arr)\n",
    "plt.show()"
   ]
  },
  {
   "cell_type": "markdown",
   "metadata": {},
   "source": [
    "- 산점도의 예제에서와 마찬가지로 축과 마커 등을 추가합니다."
   ]
  },
  {
   "cell_type": "code",
   "execution_count": 9,
   "metadata": {
    "ExecuteTime": {
     "end_time": "2018-01-28T18:52:32.072684Z",
     "start_time": "2018-01-28T18:52:31.609378Z"
    }
   },
   "outputs": [
    {
     "data": {
      "image/png": "[encoded data removed]",
      "text/plain": [
       "<Figure size 432x360 with 1 Axes>"
      ]
     },
     "metadata": {
      "needs_background": "light"
     },
     "output_type": "display_data"
    }
   ],
   "source": [
    "fig, ax = plt.subplots()\n",
    "fig.set_figwidth(6)\n",
    "fig.set_figheight(5)\n",
    "# What we just did, applying to `ax`\n",
    "ax.scatter(X_arr, Y_arr, marker='+', c='g', s=Y_arr*10) \n",
    "ax.plot(X_arr, Y_arr, linestyle='dashed', color='k')\n",
    "ax.axis([0, 10, 0, 35])\n",
    "ax.set_xlabel('My X Axis')\n",
    "ax.set_ylabel('My Y Axis')\n",
    "ax.set_title('My First Plot')\n",
    "plt.show()"
   ]
  },
  {
   "cell_type": "markdown",
   "metadata": {},
   "source": [
    "### Subplots\n",
    "- `subplots`를 이용하여 멀티 그래프를 그리는 방식은 매우 자주 사용됩니다.\n",
    "- https://matplotlib.org/stable/api/_as_gen/matplotlib.pyplot.subplots.html\n",
    "- 아래는 (2,3)차원의 서브플롯 구성 예제입니다."
   ]
  },
  {
   "cell_type": "code",
   "execution_count": 43,
   "metadata": {
    "ExecuteTime": {
     "end_time": "2018-01-28T18:52:33.871634Z",
     "start_time": "2018-01-28T18:52:32.984934Z"
    }
   },
   "outputs": [
    {
     "data": {
      "image/png": "[encoded data removed]",
      "text/plain": [
       "<Figure size 432x288 with 6 Axes>"
      ]
     },
     "metadata": {
      "needs_background": "light"
     },
     "output_type": "display_data"
    }
   ],
   "source": [
    "# Now the returned `ax` would be array with a shape a 2x3\n",
    "fig, ax_arr = plt.subplots(nrows=2, ncols=3, constrained_layout=True)\n",
    "ax_arr.shape\n",
    "plt.show()"
   ]
  },
  {
   "cell_type": "markdown",
   "metadata": {},
   "source": [
    "- `for`반복문을 통해 각 `axes`에 `plot`함수를 호출하고 그래프를 그릴 수 있습니다. "
   ]
  },
  {
   "cell_type": "code",
   "execution_count": 45,
   "metadata": {
    "ExecuteTime": {
     "end_time": "2018-01-28T18:52:34.990482Z",
     "start_time": "2018-01-28T18:52:34.001898Z"
    }
   },
   "outputs": [
    {
     "data": {
      "image/png": "[encoded data removed]",
      "text/plain": [
       "<Figure size 432x288 with 6 Axes>"
      ]
     },
     "metadata": {
      "needs_background": "light"
     },
     "output_type": "display_data"
    }
   ],
   "source": [
    "# Now the returned `ax` would be array with a shape a 2x3\n",
    "fig, ax_arr = plt.subplots(nrows=2, ncols=3, constrained_layout=True)\n",
    "for ax_row in ax_arr:\n",
    "    for ax in ax_row:\n",
    "        ax.plot(X_arr, Y_arr)"
   ]
  },
  {
   "cell_type": "markdown",
   "metadata": {},
   "source": [
    "- `subplots`호출시 첫번째 리턴값은 그래프가 표시될 캔바스이고, 두번째 리턴값은 서브그래프 콤포넌트입니다."
   ]
  },
  {
   "cell_type": "code",
   "execution_count": 31,
   "metadata": {},
   "outputs": [
    {
     "data": {
      "text/plain": [
       "array([[<AxesSubplot:>, <AxesSubplot:>, <AxesSubplot:>],\n",
       "       [<AxesSubplot:>, <AxesSubplot:>, <AxesSubplot:>]], dtype=object)"
      ]
     },
     "execution_count": 31,
     "metadata": {},
     "output_type": "execute_result"
    }
   ],
   "source": [
    "ax_arr"
   ]
  },
  {
   "cell_type": "markdown",
   "metadata": {},
   "source": [
    "### Subplot\n",
    "- 다양한 코딩 방식이 가능합니다. 다음은 `subplots`가 아닌 `subplot`을 사용하는 예제입니다.\n",
    "- https://matplotlib.org/stable/api/_as_gen/matplotlib.pyplot.subplot.html\n",
    "- `subplot`을 사용할 경우 index를 이용하여 제어합니다.  \n",
    "```\n",
    "   index는 1부터 시작하며, 만약 (2,3) 차원의 서브플롯 배치라면,  \n",
    "   (2,3,1), (2,3,2), (2,3,3)  \n",
    "   (2,3,4), (2,3,5), (2,3,6)  \n",
    "   과 같은 순서로 index가 지정됩니다.\n",
    "```"
   ]
  },
  {
   "cell_type": "code",
   "execution_count": 36,
   "metadata": {},
   "outputs": [
    {
     "data": {
      "text/plain": [
       "[array([ 2.82793021,  5.30516374,  8.24954542, 11.5489287 , 14.72768505,\n",
       "        17.1919923 , 20.41919336, 23.12135315, 26.49010331, 29.5008243 ]),\n",
       " array([ 5.65586042, 10.61032749, 16.49909084, 23.0978574 , 29.4553701 ,\n",
       "        34.3839846 , 40.83838672, 46.24270631, 52.98020662, 59.0016486 ]),\n",
       " array([ 8.48379064, 15.91549123, 24.74863625, 34.6467861 , 44.18305515,\n",
       "        51.57597691, 61.25758008, 69.36405946, 79.47030994, 88.50247289])]"
      ]
     },
     "execution_count": 36,
     "metadata": {},
     "output_type": "execute_result"
    }
   ],
   "source": [
    "Y_triple = [Y_arr, Y_arr*2, Y_arr*3]\n",
    "Y_triple"
   ]
  },
  {
   "cell_type": "code",
   "execution_count": 40,
   "metadata": {},
   "outputs": [
    {
     "data": {
      "image/png": "[encoded data removed]",
      "text/plain": [
       "<Figure size 432x288 with 3 Axes>"
      ]
     },
     "metadata": {
      "needs_background": "light"
     },
     "output_type": "display_data"
    }
   ],
   "source": [
    "for index, y in enumerate(Y_triple):\n",
    "    plt.subplot(1,3,index+1)\n",
    "    plt.plot(y)\n",
    "    plt.axis([0, 10, 0, 100])\n",
    "    plt.title(index)"
   ]
  },
  {
   "cell_type": "markdown",
   "metadata": {},
   "source": [
    "---"
   ]
  },
  {
   "cell_type": "markdown",
   "metadata": {},
   "source": [
    "## 3. 다양한 그래프 활용하기"
   ]
  },
  {
   "cell_type": "markdown",
   "metadata": {},
   "source": [
    "### Histogram"
   ]
  },
  {
   "cell_type": "markdown",
   "metadata": {},
   "source": [
    "- Gaussian distribution for illustration"
   ]
  },
  {
   "cell_type": "code",
   "execution_count": 41,
   "metadata": {
    "ExecuteTime": {
     "end_time": "2018-01-28T18:52:36.613867Z",
     "start_time": "2018-01-28T18:52:36.600420Z"
    }
   },
   "outputs": [
    {
     "data": {
      "text/plain": [
       "(15.002753474239787, 0.9948719967809957)"
      ]
     },
     "execution_count": 41,
     "metadata": {},
     "output_type": "execute_result"
    }
   ],
   "source": [
    "mu, sigma = 15, 1\n",
    "gaussian_arr = np.random.normal(mu, sigma, size=10000)\n",
    "np.mean(gaussian_arr), np.std(gaussian_arr, ddof=1)"
   ]
  },
  {
   "cell_type": "code",
   "execution_count": 42,
   "metadata": {
    "ExecuteTime": {
     "end_time": "2018-01-28T18:52:37.321621Z",
     "start_time": "2018-01-28T18:52:36.964449Z"
    }
   },
   "outputs": [
    {
     "data": {
      "image/png": "[encoded data removed]",
      "text/plain": [
       "<Figure size 432x288 with 1 Axes>"
      ]
     },
     "metadata": {
      "needs_background": "light"
     },
     "output_type": "display_data"
    }
   ],
   "source": [
    "fig, ax = plt.subplots()\n",
    "# `hist()` will return something but we usually do not need.\n",
    "freq_arr, bin_arr, _ = ax.hist(gaussian_arr)"
   ]
  },
  {
   "cell_type": "markdown",
   "metadata": {},
   "source": [
    "- 색상, 투명도, 그리드 등을 조절할 수 있습니다."
   ]
  },
  {
   "cell_type": "code",
   "execution_count": 119,
   "metadata": {
    "ExecuteTime": {
     "end_time": "2018-01-28T18:52:38.273234Z",
     "start_time": "2018-01-28T18:52:37.827321Z"
    }
   },
   "outputs": [
    {
     "data": {
      "image/png": "[encoded data removed]",
      "text/plain": [
       "<matplotlib.figure.Figure at 0x11562ae80>"
      ]
     },
     "metadata": {},
     "output_type": "display_data"
    }
   ],
   "source": [
    "fig, ax = plt.subplots()\n",
    "# Facecolor set to green; transparency (`alpha`) level: 30%\n",
    "freq_arr, bin_arr, _ = ax.hist(gaussian_arr, facecolor='g', alpha=0.3)\n",
    "# Add grid\n",
    "ax.grid()"
   ]
  },
  {
   "cell_type": "markdown",
   "metadata": {},
   "source": [
    "### Boxplot"
   ]
  },
  {
   "cell_type": "markdown",
   "metadata": {
    "ExecuteTime": {
     "end_time": "2018-01-28T18:17:05.788237Z",
     "start_time": "2018-01-28T18:17:05.776588Z"
    }
   },
   "source": [
    "- https://matplotlib.org/stable/api/_as_gen/matplotlib.pyplot.boxplot.html?highlight=boxplot#matplotlib.pyplot.boxplot"
   ]
  },
  {
   "cell_type": "code",
   "execution_count": 46,
   "metadata": {
    "ExecuteTime": {
     "end_time": "2018-01-28T18:52:41.292074Z",
     "start_time": "2018-01-28T18:52:40.902371Z"
    }
   },
   "outputs": [
    {
     "data": {
      "text/plain": [
       "{'whiskers': [<matplotlib.lines.Line2D at 0x7f8246d23668>,\n",
       "  <matplotlib.lines.Line2D at 0x7f8246d23908>],\n",
       " 'caps': [<matplotlib.lines.Line2D at 0x7f8246d23be0>,\n",
       "  <matplotlib.lines.Line2D at 0x7f8246d23eb8>],\n",
       " 'boxes': [<matplotlib.lines.Line2D at 0x7f8246d23400>],\n",
       " 'medians': [<matplotlib.lines.Line2D at 0x7f824717c1d0>],\n",
       " 'fliers': [],\n",
       " 'means': [<matplotlib.lines.Line2D at 0x7f824717c4a8>]}"
      ]
     },
     "execution_count": 46,
     "metadata": {},
     "output_type": "execute_result"
    },
    {
     "data": {
      "image/png": "[encoded data removed]",
      "text/plain": [
       "<Figure size 432x288 with 1 Axes>"
      ]
     },
     "metadata": {
      "needs_background": "light"
     },
     "output_type": "display_data"
    }
   ],
   "source": [
    "fig, ax = plt.subplots()\n",
    "ax.boxplot(gaussian_arr, \n",
    "           vert=False,  # verticle\n",
    "           showfliers=False, # do not show outliers\n",
    "           showmeans=True, # show the mean\n",
    "           labels=['Gaussian'] # group name (label)\n",
    "          )"
   ]
  },
  {
   "cell_type": "markdown",
   "metadata": {},
   "source": [
    "### Bar chart"
   ]
  },
  {
   "cell_type": "markdown",
   "metadata": {},
   "source": [
    "- 랜덤 데이터를 사용하겠습니다. "
   ]
  },
  {
   "cell_type": "code",
   "execution_count": 48,
   "metadata": {
    "ExecuteTime": {
     "end_time": "2018-01-28T18:52:42.321189Z",
     "start_time": "2018-01-28T18:52:42.312011Z"
    }
   },
   "outputs": [
    {
     "data": {
      "text/plain": [
       "array([ 5, 32, 24, 78])"
      ]
     },
     "execution_count": 48,
     "metadata": {},
     "output_type": "execute_result"
    }
   ],
   "source": [
    "bar_arr = np.array(['Spring', 'Summer', 'Fall', 'Winder'])\n",
    "freq_arr = np.random.randint(0, 100, 4) # generate 4 random integers for bar chart\n",
    "freq_arr"
   ]
  },
  {
   "cell_type": "code",
   "execution_count": 49,
   "metadata": {
    "ExecuteTime": {
     "end_time": "2018-01-28T18:52:44.282059Z",
     "start_time": "2018-01-28T18:52:43.946397Z"
    }
   },
   "outputs": [
    {
     "data": {
      "text/plain": [
       "<BarContainer object of 4 artists>"
      ]
     },
     "execution_count": 49,
     "metadata": {},
     "output_type": "execute_result"
    },
    {
     "data": {
      "image/png": "[encoded data removed]",
      "text/plain": [
       "<Figure size 432x288 with 1 Axes>"
      ]
     },
     "metadata": {
      "needs_background": "light"
     },
     "output_type": "display_data"
    }
   ],
   "source": [
    "fig, ax = plt.subplots()\n",
    "ax.bar(bar_arr, freq_arr, # X and Y\n",
    "       color='gold',\n",
    "      )"
   ]
  },
  {
   "cell_type": "markdown",
   "metadata": {},
   "source": [
    "---"
   ]
  },
  {
   "cell_type": "markdown",
   "metadata": {},
   "source": [
    "## 3. Seaborn"
   ]
  },
  {
   "cell_type": "markdown",
   "metadata": {},
   "source": [
    "- https://seaborn.pydata.org/\n",
    "- Matplotlib과 함께 매우 많이 사용되는 시각화 라이브러리입니다."
   ]
  },
  {
   "cell_type": "code",
   "execution_count": 50,
   "metadata": {
    "ExecuteTime": {
     "end_time": "2018-01-28T18:52:51.087827Z",
     "start_time": "2018-01-28T18:52:51.082151Z"
    }
   },
   "outputs": [],
   "source": [
    "import seaborn as sns"
   ]
  },
  {
   "cell_type": "markdown",
   "metadata": {},
   "source": [
    "### Example 1: Heatmap"
   ]
  },
  {
   "cell_type": "markdown",
   "metadata": {},
   "source": [
    "- `iris` 데이터셋을 사용하겠습니다."
   ]
  },
  {
   "cell_type": "code",
   "execution_count": 51,
   "metadata": {
    "ExecuteTime": {
     "end_time": "2018-01-28T18:52:52.507148Z",
     "start_time": "2018-01-28T18:52:52.468461Z"
    }
   },
   "outputs": [
    {
     "data": {
      "text/html": [
       "<div>\n",
       "<style scoped>\n",
       "    .dataframe tbody tr th:only-of-type {\n",
       "        vertical-align: middle;\n",
       "    }\n",
       "\n",
       "    .dataframe tbody tr th {\n",
       "        vertical-align: top;\n",
       "    }\n",
       "\n",
       "    .dataframe thead th {\n",
       "        text-align: right;\n",
       "    }\n",
       "</style>\n",
       "<table border=\"1\" class=\"dataframe\">\n",
       "  <thead>\n",
       "    <tr style=\"text-align: right;\">\n",
       "      <th></th>\n",
       "      <th>sepal_length</th>\n",
       "      <th>sepal_width</th>\n",
       "      <th>petal_length</th>\n",
       "      <th>petal_width</th>\n",
       "      <th>species</th>\n",
       "    </tr>\n",
       "  </thead>\n",
       "  <tbody>\n",
       "    <tr>\n",
       "      <th>0</th>\n",
       "      <td>5.1</td>\n",
       "      <td>3.5</td>\n",
       "      <td>1.4</td>\n",
       "      <td>0.2</td>\n",
       "      <td>setosa</td>\n",
       "    </tr>\n",
       "    <tr>\n",
       "      <th>1</th>\n",
       "      <td>4.9</td>\n",
       "      <td>3.0</td>\n",
       "      <td>1.4</td>\n",
       "      <td>0.2</td>\n",
       "      <td>setosa</td>\n",
       "    </tr>\n",
       "    <tr>\n",
       "      <th>2</th>\n",
       "      <td>4.7</td>\n",
       "      <td>3.2</td>\n",
       "      <td>1.3</td>\n",
       "      <td>0.2</td>\n",
       "      <td>setosa</td>\n",
       "    </tr>\n",
       "    <tr>\n",
       "      <th>3</th>\n",
       "      <td>4.6</td>\n",
       "      <td>3.1</td>\n",
       "      <td>1.5</td>\n",
       "      <td>0.2</td>\n",
       "      <td>setosa</td>\n",
       "    </tr>\n",
       "    <tr>\n",
       "      <th>4</th>\n",
       "      <td>5.0</td>\n",
       "      <td>3.6</td>\n",
       "      <td>1.4</td>\n",
       "      <td>0.2</td>\n",
       "      <td>setosa</td>\n",
       "    </tr>\n",
       "  </tbody>\n",
       "</table>\n",
       "</div>"
      ],
      "text/plain": [
       "   sepal_length  sepal_width  petal_length  petal_width species\n",
       "0           5.1          3.5           1.4          0.2  setosa\n",
       "1           4.9          3.0           1.4          0.2  setosa\n",
       "2           4.7          3.2           1.3          0.2  setosa\n",
       "3           4.6          3.1           1.5          0.2  setosa\n",
       "4           5.0          3.6           1.4          0.2  setosa"
      ]
     },
     "execution_count": 51,
     "metadata": {},
     "output_type": "execute_result"
    }
   ],
   "source": [
    "df = sns.load_dataset('iris')\n",
    "df.head()"
   ]
  },
  {
   "cell_type": "markdown",
   "metadata": {},
   "source": [
    "- correlation 값을 계산합니다."
   ]
  },
  {
   "cell_type": "code",
   "execution_count": 127,
   "metadata": {
    "ExecuteTime": {
     "end_time": "2018-01-28T18:52:53.755854Z",
     "start_time": "2018-01-28T18:52:53.737185Z"
    }
   },
   "outputs": [
    {
     "data": {
      "text/html": [
       "<div>\n",
       "<style scoped>\n",
       "    .dataframe tbody tr th:only-of-type {\n",
       "        vertical-align: middle;\n",
       "    }\n",
       "\n",
       "    .dataframe tbody tr th {\n",
       "        vertical-align: top;\n",
       "    }\n",
       "\n",
       "    .dataframe thead th {\n",
       "        text-align: right;\n",
       "    }\n",
       "</style>\n",
       "<table border=\"1\" class=\"dataframe\">\n",
       "  <thead>\n",
       "    <tr style=\"text-align: right;\">\n",
       "      <th></th>\n",
       "      <th>sepal_length</th>\n",
       "      <th>sepal_width</th>\n",
       "      <th>petal_length</th>\n",
       "    </tr>\n",
       "  </thead>\n",
       "  <tbody>\n",
       "    <tr>\n",
       "      <th>sepal_length</th>\n",
       "      <td>1.000000</td>\n",
       "      <td>-0.11757</td>\n",
       "      <td>0.871754</td>\n",
       "    </tr>\n",
       "    <tr>\n",
       "      <th>sepal_width</th>\n",
       "      <td>-0.117570</td>\n",
       "      <td>1.00000</td>\n",
       "      <td>-0.428440</td>\n",
       "    </tr>\n",
       "    <tr>\n",
       "      <th>petal_length</th>\n",
       "      <td>0.871754</td>\n",
       "      <td>-0.42844</td>\n",
       "      <td>1.000000</td>\n",
       "    </tr>\n",
       "  </tbody>\n",
       "</table>\n",
       "</div>"
      ],
      "text/plain": [
       "              sepal_length  sepal_width  petal_length\n",
       "sepal_length      1.000000     -0.11757      0.871754\n",
       "sepal_width      -0.117570      1.00000     -0.428440\n",
       "petal_length      0.871754     -0.42844      1.000000"
      ]
     },
     "execution_count": 127,
     "metadata": {},
     "output_type": "execute_result"
    }
   ],
   "source": [
    "corr_df = df[df.columns[:3]].corr()\n",
    "corr_df"
   ]
  },
  {
   "cell_type": "markdown",
   "metadata": {},
   "source": [
    "- `seaborn` 을 이용하여 correlation 그래프를 그립니다. "
   ]
  },
  {
   "cell_type": "code",
   "execution_count": 128,
   "metadata": {
    "ExecuteTime": {
     "end_time": "2018-01-28T18:52:55.743813Z",
     "start_time": "2018-01-28T18:52:55.288495Z"
    }
   },
   "outputs": [
    {
     "data": {
      "text/plain": [
       "<matplotlib.axes._subplots.AxesSubplot at 0x113395e80>"
      ]
     },
     "execution_count": 128,
     "metadata": {},
     "output_type": "execute_result"
    },
    {
     "data": {
      "image/png": "[encoded data removed]",
      "text/plain": [
       "<matplotlib.figure.Figure at 0x10b0892e8>"
      ]
     },
     "metadata": {},
     "output_type": "display_data"
    }
   ],
   "source": [
    "fig, ax = plt.subplots()\n",
    "fig.set_figwidth(8)\n",
    "fig.set_figheight(7)\n",
    "sns.heatmap(corr_df, \n",
    "            annot=True, # show the values\n",
    "            fmt=\".2f\", # format of the value\n",
    "            cmap=sns.light_palette(\"#F4D03F\", as_cmap=True), # color map to be used \n",
    "            ax=ax # plot on the `ax` we just instaniated\n",
    "           )"
   ]
  },
  {
   "cell_type": "markdown",
   "metadata": {},
   "source": [
    "### Example 2: Linear regression"
   ]
  },
  {
   "cell_type": "markdown",
   "metadata": {},
   "source": [
    "- `lmplot`함수를 이용하여 동일한 iris데이터셋을 이용하여 산점도를 그리고 추세선을 추가합니다. \n",
    "- https://seaborn.pydata.org/generated/seaborn.lmplot.html\n"
   ]
  },
  {
   "cell_type": "code",
   "execution_count": 57,
   "metadata": {
    "ExecuteTime": {
     "end_time": "2018-01-28T18:52:57.863481Z",
     "start_time": "2018-01-28T18:52:56.969108Z"
    }
   },
   "outputs": [
    {
     "name": "stderr",
     "output_type": "stream",
     "text": [
      "/home/ec2-user/anaconda3/envs/python3/lib/python3.6/site-packages/seaborn/regression.py:580: UserWarning: The `size` parameter has been renamed to `height`; please update your code.\n",
      "  warnings.warn(msg, UserWarning)\n"
     ]
    },
    {
     "data": {
      "text/plain": [
       "<seaborn.axisgrid.FacetGrid at 0x7f82428f4dd8>"
      ]
     },
     "execution_count": 57,
     "metadata": {},
     "output_type": "execute_result"
    },
    {
     "data": {
      "image/png": "[encoded data removed]",
      "text/plain": [
       "<Figure size 864x288 with 3 Axes>"
      ]
     },
     "metadata": {
      "needs_background": "light"
     },
     "output_type": "display_data"
    }
   ],
   "source": [
    "sns.lmplot(x=\"sepal_length\", y=\"sepal_width\", \n",
    "           data=df, # the data to be used\n",
    "           col=\"species\", # seperate data into column based on `species`\n",
    "           hue=\"species\", # color for each subplot (facet)\n",
    "           col_wrap=3, # wrap into a new row for every 2 columns\n",
    "           ci=None, # do not show confidence interval\n",
    "           palette=\"muted\", # color palette to use\n",
    "           size=4, # size of each subplot (facet)\n",
    "          )"
   ]
  },
  {
   "cell_type": "markdown",
   "metadata": {},
   "source": [
    "---"
   ]
  },
  {
   "cell_type": "markdown",
   "metadata": {},
   "source": [
    "#### 추가 참고자료 \n",
    "\n",
    "아래 링크를 함께 참고하십시오. 또는 상황별 인터넷 검색을 통해 목적에 맞는 다양한 예제를 찾을 수 있습니다.\n",
    "\n",
    "- https://matplotlib.org/users/pyplot_tutorial.html\n",
    "- https://matplotlib.org/faq/usage_faq.html#parts-of-a-figure\n",
    "- https://seaborn.pydata.org/examples/index.html"
   ]
  },
  {
   "cell_type": "code",
   "execution_count": null,
   "metadata": {},
   "outputs": [],
   "source": []
  }
 ],
 "metadata": {
  "kernelspec": {
   "display_name": "conda_python3",
   "language": "python",
   "name": "conda_python3"
  },
  "language_info": {
   "codemirror_mode": {
    "name": "ipython",
    "version": 3
   },
   "file_extension": ".py",
   "mimetype": "text/x-python",
   "name": "python",
   "nbconvert_exporter": "python",
   "pygments_lexer": "ipython3",
   "version": "3.6.13"
  },
  "toc": {
   "nav_menu": {},
   "number_sections": true,
   "sideBar": true,
   "skip_h1_title": false,
   "toc_cell": false,
   "toc_position": {
    "height": "888px",
    "left": "0px",
    "right": "1583px",
    "top": "92px",
    "width": "337px"
   },
   "toc_section_display": "block",
   "toc_window_display": true
  },
  "varInspector": {
   "cols": {
    "lenName": 16,
    "lenType": 16,
    "lenVar": 40
   },
   "kernels_config": {
    "python": {
     "delete_cmd_postfix": "",
     "delete_cmd_prefix": "del ",
     "library": "var_list.py",
     "varRefreshCmd": "print(var_dic_list())"
    },
    "r": {
     "delete_cmd_postfix": ") ",
     "delete_cmd_prefix": "rm(",
     "library": "var_list.r",
     "varRefreshCmd": "cat(var_dic_list()) "
    }
   },
   "types_to_exclude": [
    "module",
    "function",
    "builtin_function_or_method",
    "instance",
    "_Feature"
   ],
   "window_display": false
  }
 },
 "nbformat": 4,
 "nbformat_minor": 4
}
